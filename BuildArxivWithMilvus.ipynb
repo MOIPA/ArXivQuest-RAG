{
 "cells": [
  {
   "cell_type": "markdown",
   "metadata": {},
   "source": [
    "# 本地构建arxiv的向量数据库\n",
    "\n",
    "学校的向量数据库不方便\n",
    "\n",
    "使用milvus作为向量数据库，对arxiv的数据的所有文章\n",
    "\n",
    "向量化abstract，然后和其他所有字段插入数据库"
   ]
  },
  {
   "cell_type": "code",
   "execution_count": 2,
   "metadata": {},
   "outputs": [],
   "source": [
    "import dask.bag as db\n",
    "import json\n",
    "\n",
    "data_path = './arxiv/versions/210/arxiv-metadata-oai-snapshot.json'\n",
    "papers_db = db.read_text(data_path, blocksize=\"10mb\").map(json.loads)"
   ]
  },
  {
   "cell_type": "code",
   "execution_count": 8,
   "metadata": {},
   "outputs": [
    {
     "name": "stdout",
     "output_type": "stream",
     "text": [
      "{\n",
      "    \"id\": \"0704.0001\",\n",
      "    \"submitter\": \"Pavel Nadolsky\",\n",
      "    \"authors\": \"C. Bal\\\\'azs, E. L. Berger, P. M. Nadolsky, C.-P. Yuan\",\n",
      "    \"title\": \"Calculation of prompt diphoton production cross sections at Tevatron and\\n  LHC energies\",\n",
      "    \"comments\": \"37 pages, 15 figures; published version\",\n",
      "    \"journal-ref\": \"Phys.Rev.D76:013009,2007\",\n",
      "    \"doi\": \"10.1103/PhysRevD.76.013009\",\n",
      "    \"report-no\": \"ANL-HEP-PR-07-12\",\n",
      "    \"categories\": \"hep-ph\",\n",
      "    \"license\": null,\n",
      "    \"abstract\": \"  A fully differential calculation in perturbative quantum chromodynamics is\\npresented for the production of massive photon pairs at hadron colliders. All\\nnext-to-leading order perturbative contributions from quark-antiquark,\\ngluon-(anti)quark, and gluon-gluon subprocesses are included, as well as\\nall-orders resummation of initial-state gluon radiation valid at\\nnext-to-next-to-leading logarithmic accuracy. The region of phase space is\\nspecified in which the calculation is most reliable. Good agreement is\\ndemonstrated with data from the Fermilab Tevatron, and predictions are made for\\nmore detailed tests with CDF and DO data. Predictions are shown for\\ndistributions of diphoton pairs produced at the energy of the Large Hadron\\nCollider (LHC). Distributions of the diphoton pairs from the decay of a Higgs\\nboson are contrasted with those produced from QCD processes at the LHC, showing\\nthat enhanced sensitivity to the signal can be obtained with judicious\\nselection of events.\\n\",\n",
      "    \"versions\": [\n",
      "        {\n",
      "            \"version\": \"v1\",\n",
      "            \"created\": \"Mon, 2 Apr 2007 19:18:42 GMT\"\n",
      "        },\n",
      "        {\n",
      "            \"version\": \"v2\",\n",
      "            \"created\": \"Tue, 24 Jul 2007 20:10:27 GMT\"\n",
      "        }\n",
      "    ],\n",
      "    \"update_date\": \"2008-11-26\",\n",
      "    \"authors_parsed\": [\n",
      "        [\n",
      "            \"Bal\\u00e1zs\",\n",
      "            \"C.\",\n",
      "            \"\"\n",
      "        ],\n",
      "        [\n",
      "            \"Berger\",\n",
      "            \"E. L.\",\n",
      "            \"\"\n",
      "        ],\n",
      "        [\n",
      "            \"Nadolsky\",\n",
      "            \"P. M.\",\n",
      "            \"\"\n",
      "        ],\n",
      "        [\n",
      "            \"Yuan\",\n",
      "            \"C. -P.\",\n",
      "            \"\"\n",
      "        ]\n",
      "    ]\n",
      "}\n"
     ]
    }
   ],
   "source": [
    "def display(results,indent=4):\n",
    "    dict_result = [doc.to_dict() if hasattr(doc, 'to_dict') else vars(doc) for doc in results]\n",
    "    print(json.dumps(dict_result, indent=indent))\n",
    "first_two_papers = papers_db.take(2)\n",
    "print(json.dumps(first_two_papers[0], indent=4))"
   ]
  },
  {
   "cell_type": "code",
   "execution_count": 9,
   "metadata": {},
   "outputs": [],
   "source": [
    "# 数据清洗与转换：编写预处理辅助函数对数据进行清洗和转换，例如提取论文的发布日期、组合标题和摘要字段等。\n",
    "# 以下是提取论文发布日期并转换为 Unix 时间戳\n",
    "import datetime\n",
    "import time\n",
    "\n",
    "def v1_date(row):\n",
    "    \"\"\"\n",
    "    提取作者将论文的第一个版上传到arxiv的日期，并将其转换为Unix时间戳，添加到该行的新字段中\n",
    "    \"\"\"\n",
    "    # versions = row[\"versions\"]\n",
    "    # date = None\n",
    "    # for version in versions:\n",
    "    #     if version[\"version\"] == \"v1\":\n",
    "    #         date = datetime.datetime.strptime(version[\"created\"], \"%a, %d %b %Y %H:%M:%S %Z\")\n",
    "    #         date = int(time.mktime(date.timetuple()))\n",
    "    #         row[\"unix_time\"] = date\n",
    "    return row"
   ]
  },
  {
   "cell_type": "code",
   "execution_count": 10,
   "metadata": {},
   "outputs": [
    {
     "name": "stderr",
     "output_type": "stream",
     "text": [
      "/opt/anaconda3/envs/d2lc/lib/python3.9/site-packages/tqdm/auto.py:21: TqdmWarning: IProgress not found. Please update jupyter and ipywidgets. See https://ipywidgets.readthedocs.io/en/stable/user_install.html\n",
      "  from .autonotebook import tqdm as notebook_tqdm\n"
     ]
    }
   ],
   "source": [
    "# 对数据中的abstract字段向量化\n",
    "\n",
    "from sentence_transformers import SentenceTransformer\n",
    "\n",
    "model = SentenceTransformer(\"./all-MiniLM-L12-v2\")\n",
    "def embed_abstract(row):\n",
    "    abstract = row[\"abstract\"]\n",
    "    embedding = model.encode(abstract)\n",
    "    row[\"abstract_vector\"] = embedding\n",
    "    return row\n",
    "\n",
    "papers_with_embeddings = papers_db.map(embed_abstract)"
   ]
  },
  {
   "cell_type": "code",
   "execution_count": 14,
   "metadata": {},
   "outputs": [
    {
     "data": {
      "text/plain": [
       "({'id': '0704.0001',\n",
       "  'submitter': 'Pavel Nadolsky',\n",
       "  'authors': \"C. Bal\\\\'azs, E. L. Berger, P. M. Nadolsky, C.-P. Yuan\",\n",
       "  'title': 'Calculation of prompt diphoton production cross sections at Tevatron and\\n  LHC energies',\n",
       "  'comments': '37 pages, 15 figures; published version',\n",
       "  'journal-ref': 'Phys.Rev.D76:013009,2007',\n",
       "  'doi': '10.1103/PhysRevD.76.013009',\n",
       "  'report-no': 'ANL-HEP-PR-07-12',\n",
       "  'categories': 'hep-ph',\n",
       "  'license': None,\n",
       "  'abstract': '  A fully differential calculation in perturbative quantum chromodynamics is\\npresented for the production of massive photon pairs at hadron colliders. All\\nnext-to-leading order perturbative contributions from quark-antiquark,\\ngluon-(anti)quark, and gluon-gluon subprocesses are included, as well as\\nall-orders resummation of initial-state gluon radiation valid at\\nnext-to-next-to-leading logarithmic accuracy. The region of phase space is\\nspecified in which the calculation is most reliable. Good agreement is\\ndemonstrated with data from the Fermilab Tevatron, and predictions are made for\\nmore detailed tests with CDF and DO data. Predictions are shown for\\ndistributions of diphoton pairs produced at the energy of the Large Hadron\\nCollider (LHC). Distributions of the diphoton pairs from the decay of a Higgs\\nboson are contrasted with those produced from QCD processes at the LHC, showing\\nthat enhanced sensitivity to the signal can be obtained with judicious\\nselection of events.\\n',\n",
       "  'versions': [{'version': 'v1', 'created': 'Mon, 2 Apr 2007 19:18:42 GMT'},\n",
       "   {'version': 'v2', 'created': 'Tue, 24 Jul 2007 20:10:27 GMT'}],\n",
       "  'update_date': '2008-11-26',\n",
       "  'authors_parsed': [['Balázs', 'C.', ''],\n",
       "   ['Berger', 'E. L.', ''],\n",
       "   ['Nadolsky', 'P. M.', ''],\n",
       "   ['Yuan', 'C. -P.', '']],\n",
       "  'abstract_vector': array([-1.78187981e-01, -1.94990207e-02, -4.68025506e-02,  1.11407753e-04,\n",
       "         -7.16646984e-02, -6.04090020e-02, -1.01762846e-01, -8.07170290e-03,\n",
       "         -5.56371957e-02, -6.24013171e-02, -5.60081154e-02, -5.00195287e-02,\n",
       "          1.64091960e-02,  7.17185363e-02,  5.44582866e-02, -1.98641140e-02,\n",
       "         -3.44459899e-02, -4.32581268e-02, -2.67511588e-02,  1.35160703e-03,\n",
       "         -8.22091252e-02, -3.85440849e-02, -2.17160024e-02, -6.12001342e-04,\n",
       "          4.86499295e-02, -2.96191089e-02, -6.94575980e-02, -1.49655258e-02,\n",
       "          3.94445471e-02, -5.34697017e-03,  1.65790021e-02, -3.74962278e-02,\n",
       "          4.83932486e-03,  8.95230696e-02, -3.40126008e-02,  6.88619167e-02,\n",
       "          7.28901252e-02, -1.49566336e-02, -1.41906599e-02, -4.91514094e-02,\n",
       "          8.19141325e-03,  7.34279305e-02, -1.53659396e-02, -5.67291453e-02,\n",
       "          1.00223273e-01,  5.16513223e-03,  7.50443898e-03,  1.47805959e-02,\n",
       "         -5.33235632e-02,  1.02304900e-03, -1.73479989e-02, -1.79507807e-02,\n",
       "         -8.56684744e-02, -9.88675561e-03, -2.49688160e-02, -1.23092964e-01,\n",
       "          8.77520368e-02, -1.14270292e-01,  8.77102390e-02, -3.68177481e-02,\n",
       "         -7.42461681e-02, -6.27975212e-03, -3.95486429e-02, -3.06372195e-02,\n",
       "          1.15052797e-02,  1.24427862e-03, -2.67673116e-02,  5.14959800e-04,\n",
       "          5.97421415e-02,  1.38207316e-01,  1.17600588e-02, -5.63895106e-02,\n",
       "         -2.83235759e-02, -4.87097055e-02,  8.00374523e-02, -7.94871710e-03,\n",
       "          5.17269457e-03,  2.80132666e-02, -8.74447748e-02, -3.38097103e-02,\n",
       "          5.03780134e-02,  1.27211362e-02, -2.70995591e-02,  1.08357985e-02,\n",
       "         -2.43594423e-02, -3.59747596e-02, -8.63931328e-02,  7.90295750e-02,\n",
       "          1.05822450e-02,  3.28643732e-02, -2.73439996e-02, -9.93047655e-02,\n",
       "         -3.37700583e-02, -5.87649941e-02,  7.43763670e-02,  3.47312428e-02,\n",
       "         -1.66046601e-02, -3.35232690e-02,  5.35368659e-02,  2.45603807e-02,\n",
       "          8.88604373e-02, -2.96843145e-02, -7.55485939e-03, -1.99180134e-02,\n",
       "         -3.24088670e-02,  1.96844600e-02,  4.42830697e-02,  7.27171600e-02,\n",
       "         -2.57905852e-03, -3.19069549e-02,  1.32162571e-01,  2.53738072e-02,\n",
       "          6.67834207e-02, -7.91768581e-02,  1.68333128e-02,  6.72935769e-02,\n",
       "          3.36422101e-02,  2.46338593e-03, -2.94670719e-03,  5.87709658e-02,\n",
       "          2.50082836e-02,  5.32577783e-02,  4.90038050e-03, -2.57049166e-02,\n",
       "          3.19695659e-02, -1.78401079e-02, -1.92396324e-02, -1.07286973e-02,\n",
       "          1.39733832e-02, -5.54328300e-02,  6.68441132e-02, -6.37025535e-02,\n",
       "         -1.30063416e-02,  5.53589016e-02, -3.55889983e-02, -8.99192970e-03,\n",
       "          1.68428179e-02,  7.34358514e-03,  1.01917004e-02,  2.53503080e-02,\n",
       "          1.98299102e-02,  1.28807677e-02, -2.51818430e-02, -3.24572064e-02,\n",
       "         -2.81780250e-02,  5.75294532e-03,  1.17462121e-01,  1.01422323e-02,\n",
       "         -1.18169244e-02,  6.72616735e-02, -1.86395738e-02, -2.64686206e-03,\n",
       "          2.03774143e-02,  5.08246385e-03,  2.52618492e-02,  4.16459404e-02,\n",
       "         -6.74019456e-02,  2.77783927e-02, -3.34464340e-03,  5.43759353e-02,\n",
       "         -1.00485668e-01,  2.54366864e-02,  1.18749402e-02, -1.54619971e-02,\n",
       "         -1.97927877e-02,  2.09003761e-02,  1.53081343e-01, -8.83404631e-03,\n",
       "          1.87858585e-02,  4.29188572e-02, -1.14010192e-01, -1.58147514e-02,\n",
       "         -1.09333796e-02, -5.09423167e-02,  1.36830062e-02, -8.05442631e-02,\n",
       "          5.56075945e-02, -2.17226055e-02, -9.74171888e-03, -4.41115648e-02,\n",
       "         -1.11453108e-01, -1.91922449e-02,  3.82868722e-02, -4.01575863e-03,\n",
       "          7.29647875e-02,  1.40869012e-02,  7.43319420e-03,  1.20837063e-01,\n",
       "          6.04966283e-02, -4.76208031e-02, -4.84052002e-02,  6.34838175e-03,\n",
       "         -4.00501266e-02, -8.45029391e-03, -1.08097661e-02, -3.61261591e-02,\n",
       "         -8.45480561e-02, -6.23997562e-02, -4.40810155e-03,  2.31113955e-02,\n",
       "          2.79338378e-02,  6.05842657e-02,  4.86746542e-02,  8.65420513e-03,\n",
       "         -5.15231080e-02, -4.64942940e-02, -4.16969098e-02,  9.42143984e-03,\n",
       "         -6.28814474e-02,  5.11850119e-02,  9.01797507e-03,  5.19794039e-03,\n",
       "         -4.07944731e-02,  3.12289484e-02, -9.46765691e-02,  7.39536881e-02,\n",
       "         -1.12119645e-01,  5.66162914e-03,  4.65436885e-03, -2.90778186e-02,\n",
       "          6.13117591e-02,  8.28481093e-02, -5.62556162e-02,  2.93582910e-33,\n",
       "         -5.05135916e-02, -3.82180661e-02,  2.96711121e-02,  8.65982249e-02,\n",
       "          1.24668190e-02,  6.11446612e-02,  2.88442019e-02, -4.28977702e-03,\n",
       "          1.93190258e-02,  1.19452685e-01,  5.79529144e-02, -1.86140165e-02,\n",
       "         -9.96929482e-02, -1.10132851e-01,  6.38004243e-02,  1.31079435e-01,\n",
       "         -1.64632977e-03,  2.37484500e-02, -6.97990283e-02,  2.15052664e-02,\n",
       "          6.04064018e-02, -7.96712935e-03, -5.13119660e-02,  6.43726587e-02,\n",
       "         -4.50830348e-02, -1.02157742e-02,  7.71719813e-02, -8.91776532e-02,\n",
       "          8.06970149e-02, -4.24775817e-02,  4.43371274e-02, -3.47436368e-02,\n",
       "         -2.44091637e-02,  7.02419057e-02,  7.89940879e-02, -4.58066612e-02,\n",
       "          4.69209105e-02,  4.85527106e-02, -2.82135513e-02, -1.52113754e-02,\n",
       "          5.07602990e-02,  7.52024800e-02, -3.78272831e-02,  5.41468374e-02,\n",
       "         -2.21560933e-02, -2.10750774e-02, -3.96350883e-02,  7.99922198e-02,\n",
       "          5.05833179e-02,  3.97046208e-02, -4.89413366e-02, -4.35490534e-02,\n",
       "         -7.07558095e-02,  2.10973024e-02, -5.04170544e-03, -1.27100153e-02,\n",
       "          9.16912779e-02,  3.39879021e-02,  6.81593688e-03, -1.59274582e-02,\n",
       "         -1.66489333e-02,  9.30337161e-02,  4.49817516e-02, -5.82110174e-02,\n",
       "         -4.72834781e-02, -3.27204205e-02, -2.42205448e-02,  5.89549430e-02,\n",
       "          2.45152228e-02, -1.61038619e-02, -4.61615883e-02,  1.00161629e-02,\n",
       "          1.41282380e-02,  3.66131179e-02,  2.63316259e-02,  2.28134748e-02,\n",
       "         -1.26611190e-02, -6.77823275e-02,  1.24446109e-01,  5.34058809e-02,\n",
       "         -4.83163036e-02,  1.54050915e-02,  6.38687760e-02,  3.05579565e-02,\n",
       "          3.08825169e-03,  9.71904863e-03, -1.94171965e-02, -6.89348951e-03,\n",
       "          3.46752964e-02, -4.05160449e-02, -9.60345417e-02,  8.43892992e-02,\n",
       "          6.31626463e-03, -1.76427029e-02, -8.64135101e-03,  4.81964204e-32,\n",
       "          4.23656814e-02, -3.37524153e-02, -5.66365197e-03,  4.55585383e-02,\n",
       "          7.75322691e-02,  6.63167462e-02, -8.31415877e-02,  8.61314591e-03,\n",
       "          3.81780602e-02,  6.19436353e-02,  3.73710468e-02, -8.17882940e-02,\n",
       "         -1.18033616e-02, -7.02547953e-02, -3.46258108e-04, -8.38424452e-03,\n",
       "          5.43691590e-02, -1.06752604e-01,  3.36777099e-04,  5.25527168e-03,\n",
       "         -1.45093063e-02,  2.50481926e-02,  7.39689246e-02,  2.07091570e-02,\n",
       "         -4.95337993e-02, -1.98066072e-03, -6.67584613e-02,  4.29909527e-02,\n",
       "          1.45740416e-02, -1.79635901e-02,  1.10296896e-02, -2.11069454e-02,\n",
       "         -4.01922874e-02,  1.83455236e-02, -3.34485807e-02, -2.87764799e-02,\n",
       "         -2.45476905e-02,  3.27805318e-02,  9.42237675e-02,  2.40796190e-02,\n",
       "         -7.52423182e-02,  5.39227063e-03, -9.02811158e-03,  4.46172915e-02,\n",
       "         -4.81638871e-02,  3.12771797e-02, -2.21519805e-02,  1.23788032e-03,\n",
       "         -2.82396562e-02,  5.48500568e-02, -3.23388763e-02, -4.67041694e-02,\n",
       "         -7.67418891e-02, -1.02136351e-01,  3.56536321e-02, -3.94327827e-02,\n",
       "          4.79628630e-02,  4.81943451e-02,  9.54178348e-03,  1.68459490e-02,\n",
       "          2.11916193e-02, -2.23885104e-02, -5.43438829e-02,  2.58471202e-02],\n",
       "        dtype=float32)},)"
      ]
     },
     "execution_count": 14,
     "metadata": {},
     "output_type": "execute_result"
    }
   ],
   "source": [
    "first_two_papers = papers_with_embeddings.take(1)\n",
    "first_two_papers"
   ]
  },
  {
   "cell_type": "code",
   "execution_count": 15,
   "metadata": {},
   "outputs": [],
   "source": [
    "# 存储到 Milvus\n",
    "\n",
    "from pymilvus import connections\n",
    "\n",
    "conn = connections.connect(\n",
    "    host=\"127.0.0.1\",\n",
    "    port=\"19530\",\n",
    "    db_name=\"my_database\"\n",
    ")"
   ]
  },
  {
   "cell_type": "code",
   "execution_count": 16,
   "metadata": {},
   "outputs": [],
   "source": [
    "# 创建数据集合\n",
    "from pymilvus import Collection, FieldSchema, CollectionSchema, DataType\n",
    "\n",
    "fields = [\n",
    "    FieldSchema(name='id', dtype=DataType.INT64, is_primary=True),\n",
    "    FieldSchema(name='abstract_vector', dtype=DataType.FLOAT_VECTOR, dim=384),\n",
    "    FieldSchema(name='abstract', dtype=DataType.VARCHAR,max_length=1200)    \n",
    "]\n",
    "schema = CollectionSchema(fields=fields)\n",
    "collection = Collection(name='arxiv_abstracts', schema=schema)"
   ]
  },
  {
   "cell_type": "code",
   "execution_count": null,
   "metadata": {},
   "outputs": [],
   "source": [
    "# 插入集合\n",
    "import numpy as np\n",
    "\n",
    "def insert_data(papers):\n",
    "    data = []\n",
    "    for row in papers:\n",
    "        data.append([row[\"id\"], np.array(row[\"abstract_vector\"],row[\"abstract\"], dtype=np.float32)])\n",
    "    collection.insert(data)\n",
    "\n",
    "insert_data(papers_with_embeddings)"
   ]
  },
  {
   "cell_type": "code",
   "execution_count": 17,
   "metadata": {},
   "outputs": [
    {
     "data": {
      "text/plain": [
       "Status(code=0, message=)"
      ]
     },
     "execution_count": 17,
     "metadata": {},
     "output_type": "execute_result"
    }
   ],
   "source": [
    "index_params = {\n",
    "    \"metric_type\": \"L2\",\n",
    "    \"index_type\": \"IVF_FLAT\",\n",
    "    \"params\": {\"nlist\": 1024}\n",
    "}\n",
    "collection.create_index(field_name='abstract_vector', index_params=index_params)"
   ]
  },
  {
   "cell_type": "code",
   "execution_count": 18,
   "metadata": {},
   "outputs": [
    {
     "name": "stdout",
     "output_type": "stream",
     "text": [
      "['arxiv_abstracts']\n"
     ]
    }
   ],
   "source": [
    "# 查看集合\n",
    "from pymilvus import MilvusClient, DataType\n",
    "\n",
    "client = MilvusClient(\n",
    "    uri=\"http://localhost:19530\",\n",
    "    db_name=\"my_database\"\n",
    ")\n",
    "res = client.list_collections()\n",
    "\n",
    "print(res)"
   ]
  },
  {
   "cell_type": "code",
   "execution_count": 19,
   "metadata": {},
   "outputs": [
    {
     "name": "stdout",
     "output_type": "stream",
     "text": [
      "{'collection_name': 'arxiv_abstracts', 'auto_id': False, 'num_shards': 1, 'description': '', 'fields': [{'field_id': 100, 'name': 'id', 'description': '', 'type': <DataType.INT64: 5>, 'params': {}, 'is_primary': True}, {'field_id': 101, 'name': 'abstract_vector', 'description': '', 'type': <DataType.FLOAT_VECTOR: 101>, 'params': {'dim': 384}}, {'field_id': 102, 'name': 'abstract', 'description': '', 'type': <DataType.VARCHAR: 21>, 'params': {'max_length': 1200}}], 'functions': [], 'aliases': [], 'collection_id': 454645014249876585, 'consistency_level': 2, 'properties': {}, 'num_partitions': 1, 'enable_dynamic_field': False}\n"
     ]
    }
   ],
   "source": [
    "res = client.describe_collection(\n",
    "    collection_name=\"arxiv_abstracts\"\n",
    ")\n",
    "\n",
    "print(res)\n",
    "\n"
   ]
  },
  {
   "cell_type": "code",
   "execution_count": 20,
   "metadata": {},
   "outputs": [
    {
     "name": "stdout",
     "output_type": "stream",
     "text": [
      "data: [] \n"
     ]
    }
   ],
   "source": [
    "from pymilvus import MilvusClient\n",
    "\n",
    "client = MilvusClient(\n",
    "    uri=\"http://localhost:19530\",\n",
    "    db_name=\"my_database\"\n",
    ")\n",
    "client.load_collection(\n",
    "    collection_name=\"arxiv_abstracts\"\n",
    ")\n",
    "res = client.get(\n",
    "    collection_name=\"arxiv_abstracts\",\n",
    "    ids=[0, 1, 2],\n",
    "    output_fields=[\"id\", \"abstract\"]\n",
    ")\n",
    "print(res)"
   ]
  },
  {
   "cell_type": "code",
   "execution_count": 22,
   "metadata": {},
   "outputs": [
    {
     "name": "stdout",
     "output_type": "stream",
     "text": [
      "集合中的数据量为: 0\n"
     ]
    }
   ],
   "source": [
    "from pymilvus import Collection\n",
    "collection = Collection(\"arxiv_abstracts\")\n",
    "num_entities = collection.num_entities\n",
    "print(f\"集合中的数据量为: {num_entities}\")"
   ]
  }
 ],
 "metadata": {
  "kernelspec": {
   "display_name": "d2lc",
   "language": "python",
   "name": "python3"
  },
  "language_info": {
   "codemirror_mode": {
    "name": "ipython",
    "version": 3
   },
   "file_extension": ".py",
   "mimetype": "text/x-python",
   "name": "python",
   "nbconvert_exporter": "python",
   "pygments_lexer": "ipython3",
   "version": "3.9.21"
  }
 },
 "nbformat": 4,
 "nbformat_minor": 2
}
